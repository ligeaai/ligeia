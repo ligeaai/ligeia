{
 "cells": [
  {
   "cell_type": "code",
   "execution_count": 1,
   "id": "d8b70813-54ac-41d5-8930-9b342890410e",
   "metadata": {},
   "outputs": [],
   "source": [
    "import pandas as pd"
   ]
  },
  {
   "cell_type": "code",
   "execution_count": 2,
   "id": "4399dfd9-ff44-427d-96fd-13afb0a1f30b",
   "metadata": {},
   "outputs": [],
   "source": [
    "import psycopg2"
   ]
  },
  {
   "cell_type": "code",
   "execution_count": 3,
   "id": "3c1379fa-a86c-4b6c-8d89-1ddbc516f2b8",
   "metadata": {},
   "outputs": [],
   "source": [
    "df = pd.read_excel('Input.xlsx')"
   ]
  },
  {
   "cell_type": "code",
   "execution_count": 4,
   "id": "d45e9405-5089-44f4-a3e6-a7ab0463d319",
   "metadata": {},
   "outputs": [],
   "source": [
    "conn_string = \"host='db' dbname='postgres' user='postgres' password=1111\" "
   ]
  },
  {
   "cell_type": "code",
   "execution_count": 5,
   "id": "b556a5d0-854a-474f-8802-0e1a8f05b63a",
   "metadata": {},
   "outputs": [],
   "source": [
    "conn = psycopg2.connect(conn_string)"
   ]
  },
  {
   "cell_type": "code",
   "execution_count": 6,
   "id": "f3e05d7b-4a6d-47f0-8a52-287e78d33f5a",
   "metadata": {},
   "outputs": [],
   "source": [
    "cursor = conn.cursor()"
   ]
  },
  {
   "cell_type": "code",
   "execution_count": 7,
   "id": "2b872a86-d38e-4ad4-ba34-9b2d7590eab1",
   "metadata": {},
   "outputs": [],
   "source": [
    "from sqlalchemy import create_engine\n",
    "engine = create_engine('postgresql://postgres:1111@db:5432/postgres')"
   ]
  },
  {
   "cell_type": "code",
   "execution_count": 8,
   "id": "d4532bbd-9583-4480-84a7-325c9b4fef4f",
   "metadata": {},
   "outputs": [],
   "source": [
    "df_pg = pd.read_sql_query('select * from data_table',con = engine)"
   ]
  },
  {
   "cell_type": "code",
   "execution_count": 9,
   "id": "0f4c1799-667d-4fd3-9715-8f3180854960",
   "metadata": {},
   "outputs": [],
   "source": [
    "cursor.execute('drop table data_table')"
   ]
  },
  {
   "cell_type": "code",
   "execution_count": 10,
   "id": "22d5ebbd-10da-446e-8ca2-01e04ca9efd7",
   "metadata": {},
   "outputs": [],
   "source": [
    "cursor.execute('commit')"
   ]
  },
  {
   "cell_type": "code",
   "execution_count": 11,
   "id": "ca050ad1-8491-40f0-b06f-6dcf7276a669",
   "metadata": {},
   "outputs": [
    {
     "data": {
      "text/plain": [
       "4"
      ]
     },
     "execution_count": 11,
     "metadata": {},
     "output_type": "execute_result"
    }
   ],
   "source": [
    "df.to_sql('data_table',engine)"
   ]
  },
  {
   "cell_type": "code",
   "execution_count": 12,
   "id": "72479bc9-8bb6-4a35-ba24-42ea5b077e46",
   "metadata": {},
   "outputs": [],
   "source": [
    "df_pg = pd.read_sql_query('select * from data_table',con = engine)"
   ]
  },
  {
   "cell_type": "code",
   "execution_count": 13,
   "id": "e3f683f8-f36c-422a-8072-cd5160843649",
   "metadata": {},
   "outputs": [
    {
     "data": {
      "text/html": [
       "<div>\n",
       "<style scoped>\n",
       "    .dataframe tbody tr th:only-of-type {\n",
       "        vertical-align: middle;\n",
       "    }\n",
       "\n",
       "    .dataframe tbody tr th {\n",
       "        vertical-align: top;\n",
       "    }\n",
       "\n",
       "    .dataframe thead th {\n",
       "        text-align: right;\n",
       "    }\n",
       "</style>\n",
       "<table border=\"1\" class=\"dataframe\">\n",
       "  <thead>\n",
       "    <tr style=\"text-align: right;\">\n",
       "      <th></th>\n",
       "      <th>index</th>\n",
       "      <th>Способ эксплуатации</th>\n",
       "      <th>Скважина</th>\n",
       "      <th>Статус</th>\n",
       "      <th>ГЗУ</th>\n",
       "      <th>Замер жидкости</th>\n",
       "      <th>Замер нефти</th>\n",
       "      <th>Замер обводненности</th>\n",
       "      <th>Тустья</th>\n",
       "      <th>Рбуф</th>\n",
       "      <th>...</th>\n",
       "      <th>Дата оптимизации</th>\n",
       "      <th>Счетчик</th>\n",
       "      <th>Дата отбора пробы</th>\n",
       "      <th>Отработанное время</th>\n",
       "      <th>Дата</th>\n",
       "      <th>диам.штуц.,мм Choke Size</th>\n",
       "      <th>Q inj steam</th>\n",
       "      <th>Q inj (water)</th>\n",
       "      <th>Agent</th>\n",
       "      <th>Inj Hor</th>\n",
       "    </tr>\n",
       "  </thead>\n",
       "  <tbody>\n",
       "    <tr>\n",
       "      <th>0</th>\n",
       "      <td>0</td>\n",
       "      <td>ск</td>\n",
       "      <td>1166</td>\n",
       "      <td>СК работает</td>\n",
       "      <td>9 птв</td>\n",
       "      <td>42</td>\n",
       "      <td>1.97190</td>\n",
       "      <td>95</td>\n",
       "      <td>39</td>\n",
       "      <td>3.0</td>\n",
       "      <td>...</td>\n",
       "      <td>2021-12-15 00:00:00</td>\n",
       "      <td>СКЖ</td>\n",
       "      <td>2022-01-22 00:00:00</td>\n",
       "      <td>24</td>\n",
       "      <td>2022-02-01</td>\n",
       "      <td>None</td>\n",
       "      <td>None</td>\n",
       "      <td>None</td>\n",
       "      <td>None</td>\n",
       "      <td>None</td>\n",
       "    </tr>\n",
       "    <tr>\n",
       "      <th>1</th>\n",
       "      <td>1</td>\n",
       "      <td>вн</td>\n",
       "      <td>1167</td>\n",
       "      <td>винтовой</td>\n",
       "      <td>9 птв</td>\n",
       "      <td>42</td>\n",
       "      <td>1.57752</td>\n",
       "      <td>96</td>\n",
       "      <td>31</td>\n",
       "      <td>3.0</td>\n",
       "      <td>...</td>\n",
       "      <td>2022-01-22 00:00:00</td>\n",
       "      <td>СКЖ</td>\n",
       "      <td>2022-01-22 00:00:00</td>\n",
       "      <td>24</td>\n",
       "      <td>2022-02-01</td>\n",
       "      <td>None</td>\n",
       "      <td>None</td>\n",
       "      <td>None</td>\n",
       "      <td>None</td>\n",
       "      <td>None</td>\n",
       "    </tr>\n",
       "    <tr>\n",
       "      <th>2</th>\n",
       "      <td>2</td>\n",
       "      <td>ск</td>\n",
       "      <td>1168</td>\n",
       "      <td>контрольный фонд</td>\n",
       "      <td>9 птв</td>\n",
       "      <td>0</td>\n",
       "      <td>0.00000</td>\n",
       "      <td>0</td>\n",
       "      <td>0</td>\n",
       "      <td>0.0</td>\n",
       "      <td>...</td>\n",
       "      <td>00:00:00</td>\n",
       "      <td>нет</td>\n",
       "      <td>00:00:00</td>\n",
       "      <td>0</td>\n",
       "      <td>2022-02-01</td>\n",
       "      <td>None</td>\n",
       "      <td>None</td>\n",
       "      <td>None</td>\n",
       "      <td>None</td>\n",
       "      <td>None</td>\n",
       "    </tr>\n",
       "    <tr>\n",
       "      <th>3</th>\n",
       "      <td>3</td>\n",
       "      <td>ск</td>\n",
       "      <td>1169</td>\n",
       "      <td>СК раб.с проп.кл</td>\n",
       "      <td>9 птв</td>\n",
       "      <td>22</td>\n",
       "      <td>0.61974</td>\n",
       "      <td>97</td>\n",
       "      <td>25</td>\n",
       "      <td>2.5</td>\n",
       "      <td>...</td>\n",
       "      <td>2021-04-30 00:00:00</td>\n",
       "      <td>СКЖ</td>\n",
       "      <td>2022-01-22 00:00:00</td>\n",
       "      <td>24</td>\n",
       "      <td>2022-02-01</td>\n",
       "      <td>None</td>\n",
       "      <td>None</td>\n",
       "      <td>None</td>\n",
       "      <td>None</td>\n",
       "      <td>None</td>\n",
       "    </tr>\n",
       "  </tbody>\n",
       "</table>\n",
       "<p>4 rows × 31 columns</p>\n",
       "</div>"
      ],
      "text/plain": [
       "   index Способ эксплуатации  Скважина            Статус    ГЗУ  \\\n",
       "0      0                  ск      1166       СК работает  9 птв   \n",
       "1      1                  вн      1167          винтовой  9 птв   \n",
       "2      2                  ск      1168  контрольный фонд  9 птв   \n",
       "3      3                  ск      1169  СК раб.с проп.кл  9 птв   \n",
       "\n",
       "   Замер жидкости  Замер нефти  Замер обводненности  Тустья  Рбуф  ...  \\\n",
       "0              42      1.97190                   95      39   3.0  ...   \n",
       "1              42      1.57752                   96      31   3.0  ...   \n",
       "2               0      0.00000                    0       0   0.0  ...   \n",
       "3              22      0.61974                   97      25   2.5  ...   \n",
       "\n",
       "      Дата оптимизации  Счетчик    Дата отбора пробы Отработанное время  \\\n",
       "0  2021-12-15 00:00:00      СКЖ  2022-01-22 00:00:00                 24   \n",
       "1  2022-01-22 00:00:00      СКЖ  2022-01-22 00:00:00                 24   \n",
       "2             00:00:00      нет             00:00:00                  0   \n",
       "3  2021-04-30 00:00:00      СКЖ  2022-01-22 00:00:00                 24   \n",
       "\n",
       "        Дата  диам.штуц.,мм Choke Size  Q inj steam Q inj (water) Agent  \\\n",
       "0 2022-02-01                      None         None          None  None   \n",
       "1 2022-02-01                      None         None          None  None   \n",
       "2 2022-02-01                      None         None          None  None   \n",
       "3 2022-02-01                      None         None          None  None   \n",
       "\n",
       "  Inj Hor  \n",
       "0    None  \n",
       "1    None  \n",
       "2    None  \n",
       "3    None  \n",
       "\n",
       "[4 rows x 31 columns]"
      ]
     },
     "execution_count": 13,
     "metadata": {},
     "output_type": "execute_result"
    }
   ],
   "source": [
    "df_pg"
   ]
  },
  {
   "cell_type": "code",
   "execution_count": null,
   "id": "56289cda-8c34-4424-af1e-2a6fda91ca24",
   "metadata": {},
   "outputs": [],
   "source": []
  }
 ],
 "metadata": {
  "kernelspec": {
   "display_name": "Python 3 (ipykernel)",
   "language": "python",
   "name": "python3"
  },
  "language_info": {
   "codemirror_mode": {
    "name": "ipython",
    "version": 3
   },
   "file_extension": ".py",
   "mimetype": "text/x-python",
   "name": "python",
   "nbconvert_exporter": "python",
   "pygments_lexer": "ipython3",
   "version": "3.9.10"
  }
 },
 "nbformat": 4,
 "nbformat_minor": 5
}
